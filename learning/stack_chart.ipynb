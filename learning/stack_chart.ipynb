{
 "cells": [
  {
   "cell_type": "code",
   "execution_count": 1,
   "metadata": {},
   "outputs": [
    {
     "data": {
      "application/vnd.plotly.v1+json": {
       "config": {
        "plotlyServerURL": "https://plot.ly"
       },
       "data": [
        {
         "hovertemplate": "x: %{x}<br>y: %{y}<br>color: %{z}<extra></extra>",
         "name": "0",
         "source": "data:image/png;base64,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",
         "type": "image",
         "xaxis": "x",
         "yaxis": "y"
        }
       ],
       "layout": {
        "annotations": [
         {
          "arrowsize": 0.5,
          "ax": -50,
          "ay": 0,
          "showarrow": true,
          "text": "40.0% Amazon Web Services (AWS)",
          "x": 0,
          "xanchor": "right",
          "y": 102.4
         },
         {
          "arrowsize": 0.5,
          "ax": -50,
          "ay": 0,
          "showarrow": true,
          "text": "27.0% Microsoft Azure",
          "x": 0,
          "xanchor": "right",
          "y": 273.92
         },
         {
          "arrowsize": 0.5,
          "ax": -50,
          "ay": 0,
          "showarrow": true,
          "text": "33.0% Google Cloud Platform (GCP)",
          "x": 0,
          "xanchor": "right",
          "y": 427.52
         }
        ],
        "coloraxis": {
         "showscale": false
        },
        "height": 400,
        "margin": {
         "b": 20,
         "l": 20,
         "r": 20,
         "t": 20
        },
        "template": {
         "data": {
          "scatter": [
           {
            "type": "scatter"
           }
          ]
         }
        },
        "width": 800,
        "xaxis": {
         "anchor": "y",
         "domain": [
          0,
          1
         ],
         "showticklabels": false,
         "title": {
          "text": "Time"
         },
         "visible": false
        },
        "yaxis": {
         "anchor": "x",
         "domain": [
          0,
          1
         ],
         "showticklabels": false,
         "type": "linear",
         "visible": false
        }
       }
      }
     },
     "metadata": {},
     "output_type": "display_data"
    }
   ],
   "source": [
    "import plotly.express as px\n",
    "import PIL\n",
    "import plotly.express as px\n",
    "import numpy as np\n",
    "import pandas as pd\n",
    "\n",
    "\n",
    "# Function generate color scale in array svg\n",
    "def genCategoryColor(matrix, start=0, end=1, color_rgb=[255, 0, 0]):\n",
    "    for x in range(\n",
    "        int(round(matrix.shape[0] * start, 0)), int(round(matrix.shape[0] * end, 0))\n",
    "    ):\n",
    "        if np.any(matrix[x, :, :]):\n",
    "            for y in range(matrix.shape[1]):\n",
    "                if np.any(matrix[x][y]):\n",
    "                    if x >= matrix.shape[0] * start and x < matrix.shape[0] * end:\n",
    "                        matrix[x][y] = [\n",
    "                            color_rgb[0],\n",
    "                            color_rgb[1],\n",
    "                            color_rgb[2],\n",
    "                            list(matrix[x][y])[-1],\n",
    "                        ]\n",
    "    return matrix\n",
    "\n",
    "\n",
    "# Function generate annotation in chart\n",
    "def addAnnotation(fig, shape, start=0, end=1, text=\"Annotation\"):\n",
    "    fig.add_annotation(\n",
    "        x=0,\n",
    "        y=shape[0] * ((start + end) / 2),\n",
    "        text=text,\n",
    "        showarrow=True,\n",
    "        xanchor=\"right\",\n",
    "        ax=-50,\n",
    "        ay=0,\n",
    "        arrowsize=0.5,\n",
    "    )\n",
    "\n",
    "\n",
    "# data example:\n",
    "pc_1 = {\n",
    "    \"name\": \"Amazon Web Services (AWS)\",\n",
    "    \"start\": 0.0,\n",
    "    \"end\": 0.4,\n",
    "    # \"color\": (114, 191, 120),\n",
    "    \"color\": (128, 175, 129),\n",
    "}\n",
    "pc_2 = {\n",
    "    \"name\": \"Microsoft Azure\",\n",
    "    \"start\": 0.4,\n",
    "    \"end\": 0.67,\n",
    "    # \"color\": (160, 214, 131),\n",
    "    \"color\": (80, 141, 78),\n",
    "}\n",
    "pc_3 = {\n",
    "    \"name\": \"Google Cloud Platform (GCP)\",\n",
    "    \"start\": 0.67,\n",
    "    \"end\": 1,\n",
    "    # \"color\": (211, 238, 152),\n",
    "    \"color\": (26, 83, 25),\n",
    "}\n",
    "df = pd.DataFrame([pc_1, pc_2, pc_3])\n",
    "\n",
    "im = PIL.Image.open(\"./footprint.png\").convert(\"RGBA\")\n",
    "matrix = np.array(im)\n",
    "\n",
    "for index, row in df.iterrows():\n",
    "    matrix = genCategoryColor(matrix, row[\"start\"], row[\"end\"], list(row[\"color\"]))\n",
    "\n",
    "fig = px.imshow(matrix, height=400, width=800, template=\"none\")\n",
    "\n",
    "for index, row in df.iterrows():\n",
    "    addAnnotation(\n",
    "        fig,\n",
    "        matrix.shape,\n",
    "        row[\"start\"],\n",
    "        row[\"end\"],\n",
    "        str(round((row[\"end\"] - row[\"start\"]) * 100, 2)) + \"% \" + row[\"name\"],\n",
    "    )\n",
    "fig.update_xaxes(title=\"Time\", showticklabels=False, visible=False)\n",
    "fig.update_yaxes(visible=False, type=\"linear\", showticklabels=False)\n",
    "fig.update_layout(coloraxis_showscale=False, margin=dict(l=20, r=20, b=20, t=20))\n",
    "fig.show()"
   ]
  }
 ],
 "metadata": {
  "kernelspec": {
   "display_name": ".venv",
   "language": "python",
   "name": "python3"
  },
  "language_info": {
   "codemirror_mode": {
    "name": "ipython",
    "version": 3
   },
   "file_extension": ".py",
   "mimetype": "text/x-python",
   "name": "python",
   "nbconvert_exporter": "python",
   "pygments_lexer": "ipython3",
   "version": "3.9.6"
  }
 },
 "nbformat": 4,
 "nbformat_minor": 2
}
