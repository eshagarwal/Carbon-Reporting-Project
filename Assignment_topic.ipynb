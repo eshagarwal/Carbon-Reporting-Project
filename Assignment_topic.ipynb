{
 "cells": [
  {
   "cell_type": "markdown",
   "metadata": {},
   "source": [
    "## Assignment topic - Background\n",
    "\n",
    "[Watch this video on YouTube](https://www.youtube.com/watch?v=a9yO-K8mwL0)\n"
   ]
  },
  {
   "cell_type": "markdown",
   "metadata": {},
   "source": [
    "## Assignment topic - Context\n",
    "\n",
    "Carbon reporting is a key aspect of measuring individuals and organisations impact on\n",
    "the environment, to help mitigate climate crisis.\n",
    "\n",
    "It is under EU law that member states must report their estimated carbon footprints.\n",
    "Companies also develop their own reporting methodologies (e.g. Google).\n",
    "However, standardisation and transparency of the usage of these tools is criticized\n",
    "(e.g. Tesla not reporting full carbon footprint).\n",
    "It is a big field and industry in itself. A good resource is developed by the WWF."
   ]
  },
  {
   "cell_type": "markdown",
   "metadata": {},
   "source": [
    "## Assignment topic - operators\n",
    "\n",
    "![Assignment topic - operators](./learning/Assignment_topic-operators.png \"Assignment topic - operators\")\n",
    "\n"
   ]
  }
 ],
 "metadata": {
  "language_info": {
   "name": "python"
  }
 },
 "nbformat": 4,
 "nbformat_minor": 2
}
